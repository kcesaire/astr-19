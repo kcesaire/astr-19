{
 "cells": [
  {
   "cell_type": "code",
   "execution_count": null,
   "id": "b07acf61-f20d-400c-8aa6-b6c86bd37769",
   "metadata": {
    "tags": []
   },
   "outputs": [],
   "source": [
    "import numpy as np"
   ]
  },
  {
   "cell_type": "markdown",
   "id": "3fb3a432-e272-4a3e-bf1f-d3b79197d6f1",
   "metadata": {
    "tags": []
   },
   "source": [
    "# Sin Function Definition\n",
    "This cell defines a function that takes an input `x` and returns the sin of `x`"
   ]
  },
  {
   "cell_type": "code",
   "execution_count": null,
   "id": "67ef8a26-3ac0-4813-a7b5-de3349a40b47",
   "metadata": {
    "tags": []
   },
   "outputs": [],
   "source": [
    "#Defining the sin function\n",
    "def sin_function(x):\n",
    "    return np.sin(x)"
   ]
  },
  {
   "cell_type": "markdown",
   "id": "0887ee8b-21bd-4a11-a4fa-e12040c49de9",
   "metadata": {},
   "source": [
    "# Cosin Function Definition\n",
    "This cell defines a function that takes an input `x` and returns the cosin of `x`"
   ]
  },
  {
   "cell_type": "code",
   "execution_count": null,
   "id": "29504507-9a13-4572-bb00-cf65e1d0a95e",
   "metadata": {
    "tags": []
   },
   "outputs": [],
   "source": [
    "#Defining the cos function\n",
    "def cos_function(x):\n",
    "    return np.cos(x)"
   ]
  },
  {
   "cell_type": "markdown",
   "id": "55f70eb5-3b88-4399-87cd-f0c691eea952",
   "metadata": {},
   "source": [
    "# Tabulation of sin(x) and cos(x) vs. x\n",
    "In this cell, I tabulated values of `x`, `sin(x)`, and `cos(x)` for `x` ranging from 0 to 2pi with a thousand entries"
   ]
  },
  {
   "cell_type": "code",
   "execution_count": null,
   "id": "348c0aeb-919d-465c-a781-b51a3c2a4a87",
   "metadata": {
    "tags": []
   },
   "outputs": [],
   "source": [
    "#Generate 1000 values of x between 0 and 2pi\n",
    "x_values = linspace(0, 2 * np.pi, 1000)\n",
    "\n",
    "#Tabulate sin(x) and cos(x) using the previously defined function\n",
    "sin_values = sin_function(x_values)\n",
    "cos_values = cos_function(x_values)"
   ]
  },
  {
   "cell_type": "markdown",
   "id": "2fa62eb6-d1d0-4dcd-931b-0216e9bc9f08",
   "metadata": {},
   "source": [
    "# First 10 values for x, sin(x), and cos(x)\n",
    "In this cell, I used the values calculated in the previous cell to print the first ten values for x, sin(x), and cos(x)"
   ]
  },
  {
   "cell_type": "code",
   "execution_count": null,
   "id": "a6e92388-4e3c-42a1-8b76-ce833645c6b6",
   "metadata": {
    "tags": []
   },
   "outputs": [],
   "source": [
    "#Print the first 10 values of x, sin(x), and cos(x)\n",
    "for i in range(10):\n",
    "    #Formating the print statement so the columns look even and its easier to read (googled this)\n",
    "    print(f\"{x_values[i]:<10.4f}{sin_values[i]:<15.4f}{cos_values[i]:<15.4f}\")"
   ]
  }
 ],
 "metadata": {
  "kernelspec": {
   "display_name": "ASTR 19",
   "language": "python",
   "name": "astr19"
  },
  "language_info": {
   "codemirror_mode": {
    "name": "ipython",
    "version": 3
   },
   "file_extension": ".py",
   "mimetype": "text/x-python",
   "name": "python",
   "nbconvert_exporter": "python",
   "pygments_lexer": "ipython3",
   "version": "3.10.12"
  }
 },
 "nbformat": 4,
 "nbformat_minor": 5
}
