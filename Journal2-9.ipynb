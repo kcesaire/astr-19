{
 "cells": [
  {
   "cell_type": "code",
   "execution_count": null,
   "id": "38997c7d-fce4-464e-9830-e280efc6aeb7",
   "metadata": {},
   "outputs": [],
   "source": [
    "import numpy as np\n",
    "import matplotlib.pyplot as plt"
   ]
  },
  {
   "cell_type": "code",
   "execution_count": null,
   "id": "5fc6697e-872e-49be-9d26-2a92c5ba1f87",
   "metadata": {},
   "outputs": [],
   "source": [
    "random_numbers = np.random.uniform(0, 1, 1000)"
   ]
  },
  {
   "cell_type": "code",
   "execution_count": null,
   "id": "2c8b8c7f-9a8b-4869-903a-2c587e84a42a",
   "metadata": {},
   "outputs": [],
   "source": [
    "plt.figure()\n",
    "plt.hist(random_numbers, bins=100)\n",
    "plt.xlabel(\"Random Number\")\n",
    "plt.ylabel(\"Frequency\")"
   ]
  },
  {
   "cell_type": "code",
   "execution_count": null,
   "id": "2c575a50-f978-467f-a64c-aca3086209eb",
   "metadata": {},
   "outputs": [],
   "source": [
    "plt.savefig(\"uniform_histogram.pdf\", format=\"pdf\")"
   ]
  },
  {
   "cell_type": "code",
   "execution_count": null,
   "id": "7db612de-22e5-4604-b094-6d858db4fefb",
   "metadata": {},
   "outputs": [],
   "source": []
  }
 ],
 "metadata": {
  "kernelspec": {
   "display_name": "",
   "name": ""
  },
  "language_info": {
   "name": ""
  }
 },
 "nbformat": 4,
 "nbformat_minor": 5
}
