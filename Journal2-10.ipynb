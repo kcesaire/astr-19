{
 "cells": [
  {
   "cell_type": "code",
   "execution_count": null,
   "id": "462806cc-cbfc-4ae3-a818-f75bcaa917ea",
   "metadata": {},
   "outputs": [],
   "source": [
    "import numpy as np\n",
    "import matplotlib.pyplot as plt"
   ]
  },
  {
   "cell_type": "code",
   "execution_count": null,
   "id": "4f694627-fe10-4856-91b8-1d6f67fda619",
   "metadata": {},
   "outputs": [],
   "source": [
    "random_numbers = np.random.exponential(scale=1.0, size=1000)"
   ]
  },
  {
   "cell_type": "code",
   "execution_count": null,
   "id": "44850732-ed43-41aa-8c81-d28f1fd47345",
   "metadata": {},
   "outputs": [],
   "source": [
    "plt.figure()\n",
    "plt.hist(random_numbers, bins=100)\n",
    "plt.xlabel(\"Random Number (Exponential Distribution)\")\n",
    "plt.ylabel(\"Frequency\")"
   ]
  },
  {
   "cell_type": "code",
   "execution_count": null,
   "id": "5ce9f698-f11d-434c-b28a-92354db1aebb",
   "metadata": {},
   "outputs": [],
   "source": [
    "plt.savefig(\"exponential_histogram.pdf\", format=\"pdf\")\n"
   ]
  },
  {
   "cell_type": "code",
   "execution_count": null,
   "id": "eacbab72-5cc9-4006-85ca-b0b8b4090ed2",
   "metadata": {},
   "outputs": [],
   "source": []
  }
 ],
 "metadata": {
  "kernelspec": {
   "display_name": "",
   "name": ""
  },
  "language_info": {
   "name": ""
  }
 },
 "nbformat": 4,
 "nbformat_minor": 5
}
